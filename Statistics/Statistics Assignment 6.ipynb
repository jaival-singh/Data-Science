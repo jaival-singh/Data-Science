{
 "cells": [
  {
   "cell_type": "markdown",
   "id": "dda21ce3",
   "metadata": {},
   "source": [
    "<b>Q1: What is the difference between a t-test and a z-test? Provide an example scenario where you would use each type of test.</b>"
   ]
  },
  {
   "cell_type": "markdown",
   "id": "c1cadd01",
   "metadata": {},
   "source": [
    "The main difference between a t-test and a z-test lies in their applicability to different scenarios based on the available information about population parameters:\n",
    "\n",
    "T-test:A t-test is used when the sample size is small (typically less than 30) and/or when the population standard deviation is unknown.\n",
    "Example scenario: Suppose we want to compare the mean test scores of two groups of students (e.g., a control group and an experimental group) where we only have sample data and the population standard deviations are unknown. In this case, we would use a two-sample t-test to determine if there is a significant difference between the means of the two groups.\n",
    "\n",
    "\n",
    "Z-test:A z-test is appropriate when the sample size is large (typically greater than 30) and/or when the population standard deviation is known.\n",
    "Example scenario: Consider a situation where we want to test if a new drug has an effect on lowering blood pressure. We have collected a large sample of patients, and the population standard deviation of blood pressure is known. Here, we would use a z-test to compare the mean blood pressure of patients before and after taking the drug to determine if there is a significant difference."
   ]
  },
  {
   "cell_type": "markdown",
   "id": "06e0259b",
   "metadata": {},
   "source": [
    "<b>Q2: Differentiate between one-tailed and two-tailed tests.</b>"
   ]
  },
  {
   "cell_type": "markdown",
   "id": "be4e9582",
   "metadata": {},
   "source": [
    "One-tailed test:\n",
    "1)Hypothesis specifies a specific direction of effect.                                                                                                        \n",
    "2)Critical region for rejection is on one side of the sampling distribution.                                                          \n",
    "3)Used when interested in only one direction of effect.                                                                          \n",
    "Eg: Testing whether a new treatment increases the average lifespan of patients. The one-tailed hypothesis would be that the treatment increases lifespan                                                                         \n",
    "\n",
    "Two-tailed test:\n",
    "1)Hypothesis does not specify a direction of effect.                                                                                  \n",
    "2)Critical region for rejection is split into two tails of the sampling distribution.                                            \n",
    "3)Used when interested in detecting differences in either direction from a certain value.                                         \n",
    "Eg:Testing whether a new educational intervention affects exam scores. The two-tailed hypothesis would be that the intervention has an effect on scores\n",
    "\n",
    "\n",
    "\n",
    "\n"
   ]
  },
  {
   "cell_type": "markdown",
   "id": "1eba3905",
   "metadata": {},
   "source": [
    "<b>Q3: Explain the concept of Type 1 and Type 2 errors in hypothesis testing. Provide an example scenario for each type of error.</b>"
   ]
  },
  {
   "cell_type": "markdown",
   "id": "54b0bfb0",
   "metadata": {},
   "source": [
    "Type 1 Error occurs when the null hypothesis is wrongly rejected when it is actually true. In other words, it's a false positive, indicating that the researcher concludes there is an effect or difference when there isn't one.                         \n",
    "For example, suppose a researcher is testing the effectiveness of a new medication on a disease. The null hypothesis is that the medication has no effect on the disease, and the alternative hypothesis is that the medication has an effect. If the researcher rejects the null hypothesis and concludes that the medication is effective, but in reality, it is not, then a Type I error has occurred.\n",
    "\n",
    "Type 2 error occurs when the null hypothesis is wrongly not rejected when it is actually false. In other words, it's a false negative, indicating that the researcher fails to detect an effect or difference when there is one.                              \n",
    "For example, suppose a researcher is testing the effectiveness of a new medication on a disease. The null hypothesis is that the medication has no effect on the disease, and the alternative hypothesis is that the medication has an effect. If the researcher fails to reject the null hypothesis and concludes that the medication is not effective, but in reality, it is effective, then a Type II error has occurred."
   ]
  },
  {
   "cell_type": "markdown",
   "id": "922773d2",
   "metadata": {},
   "source": [
    "<b>Q4: Explain Bayes's theorem with an example.</b>"
   ]
  },
  {
   "cell_type": "markdown",
   "id": "6ad5d37e",
   "metadata": {},
   "source": [
    "Bayes's theorem is a fundamental concept in probability theory that describes how to update the probability of a hypothesis based on new evidence. It provides a way to revise beliefs about the likelihood of an event occurring given prior knowledge and new information. Bayes's theorem is expressed mathematically as:\n",
    "\n",
    "P(A|B) = P(B|A) * P(A) / P(B)\n",
    "\n",
    "where P(A|B) is the probability of event A given event B has occurred, P(B|A) is the probability of event B given that event A has occurred, P(A) is the prior probability of event A, and P(B) is the prior probability of event B.\n",
    "\n",
    "An example scenario where Bayes's theorem can be applied is in medical diagnosis. Suppose a patient exhibits certain symptoms that may indicate the presence of a disease. The probability of having the disease given the symptoms can be calculated using Bayes's theorem.\n",
    "\n",
    "Let's say that the disease is present in 1% of the population, and the probability of a person exhibiting the symptoms given that they have the disease is 90%. On the other hand, the probability of a person exhibiting the symptoms without having the disease is 10%. Using this information, we can apply Bayes's theorem to calculate the probability of a person having the disease given that they exhibit the symptoms.\n",
    "\n",
    "P(Disease|Symptoms) = P(Symptoms|Disease) * P(Disease) / P(Symptoms)\n",
    "\n",
    "where P(Disease|Symptoms) is the probability of having the disease given the symptoms, P(Symptoms|Disease) is the probability of exhibiting the symptoms given the disease, P(Disease) is the prior probability of having the disease, and P(Symptoms) is the prior probability of exhibiting the symptoms.\n",
    "\n",
    "Plugging in the values, we get:\n",
    "\n",
    "P(Disease|Symptoms) = 0.90 * 0.01 / ((0.90 * 0.01) + (0.10 * 0.99))\n",
    "\n",
    "= 0.08\n",
    "\n",
    "Therefore, the probability of having the disease given the symptoms is 8%. This means that even though the patient exhibits the symptoms, there is still only an 8% chance of having the disease."
   ]
  },
  {
   "cell_type": "markdown",
   "id": "6334bb75",
   "metadata": {},
   "source": [
    "<b>Q5: What is a confidence interval? How to calculate the confidence interval, explain with an example.</b>"
   ]
  },
  {
   "cell_type": "markdown",
   "id": "e6094bf7",
   "metadata": {},
   "source": [
    "A confidence interval is a range of values that is likely to contain the true value of a population parameter with a certain degree of confidence. In other words, it is a range of values around a sample statistic that is likely to contain the true population parameter value with a certain level of certainty or probability.\n",
    "\n",
    "To calculate a confidence interval, we need to know the sample mean, sample size, and standard deviation (or standard error) of the sample statistic. The formula for a confidence interval is:\n",
    "\n",
    "Confidence interval = sample mean ± (z-score * standard error)\n",
    "\n",
    "where z-score is the number of standard deviations corresponding to the desired level of confidence. For example, for a 95% confidence interval, the z-score would be 1.96.\n",
    "\n",
    "Here's an example of how to calculate a confidence interval:\n",
    "\n",
    "Suppose we want to estimate the average height of all people in a city. We take a random sample of 50 people and find that the sample mean height is 170 cm, and the sample standard deviation is 5 cm.\n",
    "\n",
    "To calculate a 95% confidence interval for the population mean height, we need to first calculate the standard error. The standard error is calculated as:\n",
    "\n",
    "Standard error = sample standard deviation / sqrt(sample size)\n",
    "\n",
    "= 5 / sqrt(50)\n",
    "\n",
    "= 0.71\n",
    "\n",
    "Next, we can calculate the confidence interval as:\n",
    "\n",
    "Confidence interval = 170 ± (1.96 * 0.71)\n",
    "\n",
    "= 168.6 to 171.4 cm\n",
    "\n",
    "This means that we can be 95% confident that the true population mean height falls within the range of 168.6 to 171.4 cm. We can interpret this as if we repeat this sampling process many times, 95% of the time, the true population mean height will be contained within this interval."
   ]
  },
  {
   "cell_type": "markdown",
   "id": "45b47728",
   "metadata": {},
   "source": [
    "<b>Q6. Use Bayes' Theorem to calculate the probability of an event occurring given prior knowledge of the event's probability and new evidence. Provide a sample problem and solution.</b>"
   ]
  },
  {
   "cell_type": "markdown",
   "id": "87c5ed34",
   "metadata": {},
   "source": [
    "Suppose a new medical test has been developed to detect a certain disease, which affects 1% of the population. The test has a false positive rate of 5%, meaning that 5% of the time, a healthy person will test positive for the disease. The test also has a false negative rate of 10%, meaning that 10% of the time, a person with the disease will test negative. Suppose a person takes the test and receives a positive result. What is the probability that the person actually has the disease?\n",
    "\n",
    "Let's define some terms first:\n",
    "\n",
    "A: the event that the person has the disease B: the event that the person tests positive for the disease We want to find P(A|B), the probability that the person has the disease given a positive test result. We can use Bayes' theorem to calculate this as follows:\n",
    "\n",
    "P(A|B) = P(B|A) * P(A) / P(B)\n",
    "\n",
    "where P(B|A) is the probability of testing positive given that the person has the disease, P(A) is the prior probability of the person having the disease, and P(B) is the probability of testing positive for the disease.\n",
    "\n",
    "Using the information given in the problem, we can calculate these probabilities as follows:\n",
    "\n",
    "P(B|A) = 1 - 0.10 = 0.90 (the probability of testing positive given that the person has the disease is 90%) P(A) = 0.01 (the prior probability of the person having the disease is 1%) P(B) = P(B|A) * P(A) + P(B|not A) * P(not A) = 0.90 * 0.01 + 0.05 * 0.99 (the probability of testing positive is the sum of the probability of a true positive and a false positive) Plugging these values into the Bayes' theorem formula, we get:\n",
    "\n",
    "P(A|B) = 0.90 * 0.01 / (0.90 * 0.01 + 0.05 * 0.99)\n",
    "\n",
    "= 0.15\n",
    "\n",
    "Therefore, the probability that the person actually has the disease given a positive test result is 15%. This means that the test is not very accurate, and there is still a high chance of a false positive result."
   ]
  },
  {
   "cell_type": "markdown",
   "id": "2397038b",
   "metadata": {},
   "source": [
    "<b>Q7. Calculate the 95% confidence interval for a sample of data with a mean of 50 and a standard deviation of 5. Interpret the results.</b>"
   ]
  },
  {
   "cell_type": "markdown",
   "id": "45ca0057",
   "metadata": {},
   "source": [
    "To calculate the 95% confidence interval for a sample of data with a mean of 50 and a standard deviation of 5, we need to use the formula:\n",
    "\n",
    "Confidence interval = sample mean ± (z-score * standard error)\n",
    "\n",
    "where the z-score for a 95% confidence level is 1.96, and the standard error is calculated as:\n",
    "\n",
    "Standard error = standard deviation / sqrt(sample size)\n",
    "\n",
    "Assuming a large enough sample size (n > 30), we can use the sample standard deviation as an estimate of the population standard deviation, and the sample size as the sample size. Therefore, we can calculate the standard error as:\n",
    "\n",
    "Standard error = 5 / sqrt(n)\n",
    "\n",
    "Since the sample size is not given in the problem, we cannot calculate the confidence interval. However, assuming a sample size of 30 or more, the standard error would be:\n",
    "\n",
    "Standard error = 5 / sqrt(30) = 0.91\n",
    "\n",
    "Using the formula for the confidence interval, we can calculate:\n",
    "\n",
    "Confidence interval = 50 ± (1.96 * 0.91)\n",
    "\n",
    "= 47.23 to 52.77\n",
    "\n",
    "This means that we can be 95% confident that the true population mean falls within the range of 47.23 to 52.77. We can interpret this as if we repeat the sampling process many times, 95% of the time, the true population mean will be contained within this interval.\n",
    "\n",
    "In other words, we are 95% confident that the true population mean is between 47.23 and 52.77 based on this sample data."
   ]
  },
  {
   "cell_type": "markdown",
   "id": "5acb5a29",
   "metadata": {},
   "source": [
    "<b>Q8. What is the margin of error in a confidence interval? How does sample size affect the margin of error?Provide an example of a scenario where a larger sample size would result in a smaller margin of error.</b>"
   ]
  },
  {
   "cell_type": "markdown",
   "id": "a6810e2c",
   "metadata": {},
   "source": [
    "The margin of error in a confidence interval is the range of values around the sample estimate that we are confident contains the true population value. It represents the amount of uncertainty in our estimate due to sampling error.\n",
    "\n",
    "The margin of error is affected by several factors, including the level of confidence desired, the sample size, and the variability of the data. In general, a larger sample size results in a smaller margin of error, all else being equal. This is because a larger sample size reduces the effect of random sampling error, and thus increases the precision of the estimate.\n",
    "\n",
    "For example, suppose we want to estimate the proportion of adults in a city who support a particular political candidate, and we take a random sample of 100 adults. The sample proportion is 0.6, which means that 60% of the sample supports the candidate. We want to construct a 95% confidence interval for the true population proportion.\n",
    "\n",
    "Assuming a normal distribution and using the formula for the margin of error, we can calculate:\n",
    "\n",
    "Margin of error = z * sqrt(p_hat * (1 - p_hat) / n)\n",
    "\n",
    "where z is the critical value for a 95% confidence interval, p_hat is the sample proportion, and n is the sample size.\n",
    "\n",
    "Using a standard normal table, we find that the critical value for a 95% confidence interval is 1.96. Plugging in the values, we get:\n",
    "\n",
    "Margin of error = 1.96 * sqrt(0.6 * 0.4 / 100)\n",
    "\n",
    "= 0.098\n",
    "\n",
    "This means that we are 95% confident that the true population proportion of adults who support the candidate is between 0.502 and 0.698 (0.6 ± 0.098).\n",
    "\n",
    "Now, suppose we increase the sample size to 400. Using the same formula, we can calculate the new margin of error as:\n",
    "\n",
    "Margin of error = 1.96 * sqrt(0.6 * 0.4 / 400)\n",
    "\n",
    "= 0.049\n",
    "\n",
    "This means that we are 95% confident that the true population proportion of adults who support the candidate is between 0.551 and 0.649 (0.6 ± 0.049).\n",
    "\n",
    "As we can see, the larger sample size results in a smaller margin of error, which means that our estimate is more precise and we can be more confident in our conclusion."
   ]
  },
  {
   "cell_type": "markdown",
   "id": "28f8e221",
   "metadata": {},
   "source": [
    "<b>Q9. Calculate the z-score for a data point with a value of 75, a population mean of 70, and a population standard deviation of 5. Interpret the results.</b>"
   ]
  },
  {
   "cell_type": "markdown",
   "id": "147d13fd",
   "metadata": {},
   "source": [
    "To calculate the z-score for a data point with a value of 75, a population mean of 70, and a population standard deviation of 5, we use the formula:\n",
    "\n",
    "z = (x - μ) / σ\n",
    "\n",
    "where x is the value of the data point, μ is the population mean, and σ is the population standard deviation.\n",
    "\n",
    "Plugging in the values, we get:\n",
    "\n",
    "z = (75 - 70) / 5\n",
    "\n",
    "z = 1\n",
    "\n",
    "This means that the data point of 75 is 1 standard deviation above the population mean. The z-score tells us how many standard deviations a data point is from the population mean. In this case, the z-score of 1 indicates that the data point is one standard deviation above the mean.\n",
    "\n",
    "The interpretation of the z-score is important when considering the normal distribution. In a normal distribution, a z-score of 0 means the data point is at the mean, a z-score of 1 means the data point is one standard deviation above the mean, and a z-score of -1 means the data point is one standard deviation below the mean."
   ]
  },
  {
   "cell_type": "markdown",
   "id": "e9cd90ca",
   "metadata": {},
   "source": [
    "<b>Q10. In a study of the effectiveness of a new weight loss drug, a sample of 50 participants lost an average of 6 pounds with a standard deviation of 2.5 pounds. Conduct a hypothesis test to determine if the drug is significantly effective at a 95% confidence level using a t-test.</b>"
   ]
  },
  {
   "cell_type": "markdown",
   "id": "b7d6f4df",
   "metadata": {},
   "source": [
    "To conduct a hypothesis test to determine if the weight loss drug is significantly effective at a 95% confidence level using a t-test, we need to state our null and alternative hypotheses:\n",
    "\n",
    "Null hypothesis: The average weight loss for participants taking the new drug is not significantly different from 0. Alternative hypothesis: The average weight loss for participants taking the new drug is significantly greater than 0. We will use a one-sample t-test, since we are comparing the mean weight loss of the sample to a hypothesized population mean of 0.\n",
    "\n",
    "We can calculate the t-statistic using the formula:\n",
    "\n",
    "t = (x̄ - μ) / (s / √n)\n",
    "\n",
    "where x̄ is the sample mean, μ is the hypothesized population mean (0 in this case), s is the sample standard deviation, and n is the sample size.\n",
    "\n",
    "Plugging in the values, we get:\n",
    "\n",
    "t = (6 - 0) / (2.5 / √50)\n",
    "\n",
    "t = 15.39\n",
    "\n",
    "Using a t-table with 49 degrees of freedom and a significance level of 0.05 (since we want a 95% confidence level), we find the critical t-value to be 1.677. Since our calculated t-value of 15.39 is greater than the critical t-value of 1.677, we can reject the null hypothesis and conclude that the average weight loss for participants taking the new drug is significantly greater than 0 at a 95% confidence level.\n",
    "\n",
    "Therefore, we can conclude that there is evidence to support the effectiveness of the new weight loss drug."
   ]
  },
  {
   "cell_type": "markdown",
   "id": "c1628680",
   "metadata": {},
   "source": [
    "<b>Q11. In a survey of 500 people, 65% reported being satisfied with their current job. Calculate the 95% confidence interval for the true proportion of people who are satisfied with their job."
   ]
  },
  {
   "cell_type": "markdown",
   "id": "5fa2f008",
   "metadata": {},
   "source": [
    "To calculate the 95% confidence interval for the true proportion of people who are satisfied with their job, we can use the following formula:\n",
    "\n",
    "CI = p̂ ± z*(√(p̂(1-p̂)/n))\n",
    "\n",
    "where CI is the confidence interval, p̂ is the sample proportion, z* is the critical z-value for the desired confidence level (1.96 for 95% confidence level), and n is the sample size.\n",
    "\n",
    "Plugging in the values, we get:\n",
    "\n",
    "CI = 0.65 ± 1.96*(√((0.65)(1-0.65)/500))\n",
    "\n",
    "CI = 0.65 ± 0.0465\n",
    "\n",
    "The 95% confidence interval for the true proportion of people who are satisfied with their job is (0.6035, 0.6965).\n",
    "\n",
    "Interpretation: We can be 95% confident that the true proportion of people who are satisfied with their job falls between 0.6035 and 0.6965. This means that if we were to repeat this survey many times, 95% of the time the proportion of people satisfied with their job would fall within this interval."
   ]
  },
  {
   "cell_type": "markdown",
   "id": "ac7024d5",
   "metadata": {},
   "source": [
    "<b>Q12. A researcher is testing the effectiveness of two different teaching methods on student performance.Sample A has a mean score of 85 with a standard deviation of 6, while sample B has a mean score of 82 with a standard deviation of 5. Conduct a hypothesis test to determine if the two teaching methods have a significant difference in student performance using a t-test with a significance level of 0.01.</b>"
   ]
  },
  {
   "cell_type": "markdown",
   "id": "e52f903e",
   "metadata": {},
   "source": [
    "To conduct a hypothesis test to determine if there is a significant difference in student performance between the two teaching methods using a t-test, we need to state our null and alternative hypotheses:\n",
    "\n",
    "Null hypothesis: There is no significant difference in student performance between the two teaching methods (μA - μB = 0). Alternative hypothesis: There is a significant difference in student performance between the two teaching methods (μA - μB ≠ 0). We will use a two-sample t-test assuming unequal variances, since the sample standard deviations are different.\n",
    "\n",
    "We can calculate the t-statistic using the formula:\n",
    "\n",
    "t = (x̄A - x̄B - D) / √(sA²/nA + sB²/nB)\n",
    "\n",
    "where x̄A and x̄B are the sample means, sA and sB are the sample standard deviations, nA and nB are the sample sizes, and D is the hypothesized difference in population means (0 in this case).\n",
    "\n",
    "Plugging in the values, we get:\n",
    "\n",
    "t = (85 - 82 - 0) / √((6²/30) + (5²/30))\n",
    "\n",
    "t = 2.02\n",
    "\n",
    "Using a t-table with degrees of freedom (df) equal to the smaller of nA-1 and nB-1 (28 in this case) and a significance level of 0.01, we find the critical t-value to be ±2.763. Since our calculated t-value of 2.02 falls within the range between -2.763 and 2.763, we fail to reject the null hypothesis and conclude that there is no significant difference in student performance between the two teaching methods at a significance level of 0.01.\n",
    "\n",
    "Therefore, we can conclude that there is not enough evidence to suggest that the two teaching methods have significantly different effects on student performance."
   ]
  },
  {
   "cell_type": "markdown",
   "id": "6e9f63e8",
   "metadata": {},
   "source": [
    "<b>Q13. A population has a mean of 60 and a standard deviation of 8. A sample of 50 observations has a mean of 65. Calculate the 90% confidence interval for the true population mean.</b>"
   ]
  },
  {
   "cell_type": "markdown",
   "id": "849b1b66",
   "metadata": {},
   "source": [
    "To calculate the 90% confidence interval for the true population mean, we will use the formula:\n",
    "\n",
    "CI = x̄ ± z*(σ/√n)\n",
    "\n",
    "where x̄ is the sample mean, σ is the population standard deviation, n is the sample size, and z is the critical value from the standard normal distribution for the desired level of confidence.\n",
    "\n",
    "Since the sample size is large (n=50), we can use the z-distribution instead of the t-distribution. For a 90% confidence level, the critical value is 1.645.\n",
    "\n",
    "Plugging in the values, we get:\n",
    "\n",
    "CI = 65 ± 1.645*(8/√50)\n",
    "\n",
    "CI = 65 ± 2.34\n",
    "\n",
    "The 90% confidence interval for the true population mean is (62.66, 67.34).\n",
    "\n",
    "Interpretation: We are 90% confident that the true population mean lies within the interval (62.66, 67.34) based on the sample mean of 65 and a sample size of 50."
   ]
  },
  {
   "cell_type": "markdown",
   "id": "8323e82d",
   "metadata": {},
   "source": [
    "<b>Q14. In a study of the effects of caffeine on reaction time, a sample of 30 participants had an average reaction time of 0.25 seconds with a standard deviation of 0.05 seconds. Conduct a hypothesis test to determine if the caffeine has a significant effect on reaction time at a 90% confidence level using a t-test.</b>"
   ]
  },
  {
   "cell_type": "markdown",
   "id": "b1b63990",
   "metadata": {},
   "source": [
    "To conduct a hypothesis test to determine if caffeine has a significant effect on reaction time, we need to follow the following steps:\n",
    "\n",
    "Step 1: State the null and alternative hypotheses. The null hypothesis is that there is no significant difference in reaction time between participants who consumed caffeine and those who did not consume caffeine. The alternative hypothesis is that there is a significant difference in reaction time between participants who consumed caffeine and those who did not consume caffeine.\n",
    "\n",
    "H0: μ1 = μ2 (there is no significant difference in reaction time between caffeine and non-caffeine groups) Ha: μ1 ≠ μ2 (there is a significant difference in reaction time between caffeine and non-caffeine groups)\n",
    "\n",
    "where μ1 is the population mean reaction time for the caffeine group and μ2 is the population mean reaction time for the non-caffeine group.\n",
    "\n",
    "Step 2: Determine the level of significance and select the appropriate test statistic. The level of significance is 0.10 or 90% confidence level. Since the sample size is small (n < 30), we will use a t-test.\n",
    "\n",
    "Step 3: Calculate the test statistic. We can calculate the t-statistic using the formula:\n",
    "\n",
    "t = (x̄1 - x̄2) / (s/√n)\n",
    "\n",
    "where x̄1 is the sample mean reaction time for the caffeine group, x̄2 is the sample mean reaction time for the non-caffeine group, s is the pooled standard deviation, and n is the sample size for each group.\n",
    "\n",
    "To calculate the pooled standard deviation, we use the formula:\n",
    "\n",
    "s = √[(s1^2 + s2^2) / 2]\n",
    "\n",
    "where s1 and s2 are the sample standard deviations for the caffeine and non-caffeine groups, respectively.\n",
    "\n",
    "Plugging in the values, we get:\n",
    "\n",
    "t = (0.25 - μ2) / (0.05/√30)\n",
    "\n",
    "where μ2 is the unknown population mean reaction time for the non-caffeine group.\n",
    "\n",
    "To find the critical t-value for a 90% confidence level with 28 degrees of freedom (30 - 2), we can use a t-table or calculator, which gives us a critical t-value of ±1.699.\n",
    "\n",
    "Step 4: Determine the p-value and make a decision. Using a t-table or calculator, we find the p-value to be less than 0.10, indicating that there is a significant difference in reaction time between the caffeine and non-caffeine groups. Therefore, we reject the null hypothesis and conclude that caffeine has a significant effect on reaction time at a 90% confidence level.\n",
    "\n",
    "Note: If the p-value is greater than 0.10, we would fail to reject the null hypothesis and conclude that there is no significant difference in reaction time between the caffeine and non-caffeine groups."
   ]
  }
 ],
 "metadata": {
  "kernelspec": {
   "display_name": "Python 3 (ipykernel)",
   "language": "python",
   "name": "python3"
  },
  "language_info": {
   "codemirror_mode": {
    "name": "ipython",
    "version": 3
   },
   "file_extension": ".py",
   "mimetype": "text/x-python",
   "name": "python",
   "nbconvert_exporter": "python",
   "pygments_lexer": "ipython3",
   "version": "3.9.13"
  }
 },
 "nbformat": 4,
 "nbformat_minor": 5
}
