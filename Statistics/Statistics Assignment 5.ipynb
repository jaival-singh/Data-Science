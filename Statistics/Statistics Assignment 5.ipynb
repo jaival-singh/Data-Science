{
 "cells": [
  {
   "cell_type": "markdown",
   "id": "718d8e50",
   "metadata": {},
   "source": [
    "<b>Q1 What is Estimation Statistics? Explain point estimate and interval estimate.</b>"
   ]
  },
  {
   "cell_type": "markdown",
   "id": "9e37cd2c",
   "metadata": {},
   "source": [
    "Estimation statistics is a branch of statistics that involves using data from a sample to make inferences about the population. The goal of estimation is to provide information about population parameters, such as the mean or proportion, based on a sample of data.\n",
    "\n",
    "There are two main types of estimates: point estimates and interval estimates.\n",
    "\n",
    "Point Estimate: A point estimate is a single value that is used to estimate a population parameter. It is obtained by using a sample statistic, such as the sample mean or sample proportion, to estimate the corresponding population parameter.\n",
    "\n",
    "Interval Estimate: An interval estimate, also called a confidence interval, is a range of values that is likely to contain the true population parameter with a certain level of confidence. It is obtained by using a sample statistic, such as the sample mean or sample proportion, to calculate an interval of values that is likely to contain the true population parameter."
   ]
  },
  {
   "cell_type": "markdown",
   "id": "61795037",
   "metadata": {},
   "source": [
    "<b>Q2 Write a Python function to estimate the population mean using a sample mean and standard deviation."
   ]
  },
  {
   "cell_type": "code",
   "execution_count": 4,
   "id": "fcc43d3b",
   "metadata": {},
   "outputs": [
    {
     "name": "stdout",
     "output_type": "stream",
     "text": [
      "2.0\n"
     ]
    }
   ],
   "source": [
    "import math\n",
    "\n",
    "def population_mean(sample_mean, sample_std, sample_size):\n",
    "    std_error = sample_std / math.sqrt(sample_size)\n",
    "    z_value = 1.96 # assume a 95% confidence level and use the corresponding z-value\n",
    "    margin_of_error = z_value * std_error \n",
    "    lower_bound = sample_mean - margin_of_error \n",
    "    upper_bound = sample_mean + margin_of_error \n",
    "    return ((lower_bound + upper_bound) / 2)\n",
    "\n",
    "result = population_mean(2,5,20000)\n",
    "print(result)"
   ]
  },
  {
   "cell_type": "markdown",
   "id": "328f5272",
   "metadata": {},
   "source": [
    "<b>Q3 What is Hypothesis testing? Why is it used? State the importance of Hypothesis testing.</b>"
   ]
  },
  {
   "cell_type": "markdown",
   "id": "b885629d",
   "metadata": {},
   "source": [
    "Hypothesis testing is a statistical method used to make decisions or draw conclusions about a population based on a sample of data. It involves comparing a hypothesis or claim about a population parameter (such as a mean or proportion) with the data from a sample, in order to determine if the hypothesis is likely to be true.\n",
    "\n",
    "Hypothesis testing is used to test the validity of a theory or claim.\n",
    "\n",
    "For example, in medical research, hypothesis testing can be used to determine if a new drug is effective in treating a disease by comparing its effects to a placebo. In business, hypothesis testing can be used to evaluate whether a new marketing strategy is effective in increasing sales.\n",
    "\n",
    "The importance of hypothesis testing lies in its ability to provide evidence for or against a theory or claim, and to help researchers make informed decisions based on data. It allows researchers to determine if an observed difference between groups or variables is statistically significant or simply due to chance, and to quantify the level of uncertainty in their findings. This can help researchers to draw conclusions that are based on evidence and minimize the risk of drawing incorrect or unsupported conclusions."
   ]
  },
  {
   "cell_type": "markdown",
   "id": "455c6c75",
   "metadata": {},
   "source": [
    "<b>Q4 Create a hypothesis that states whether the average weight of male college students is greater than the average weight of female college students.</b>"
   ]
  },
  {
   "cell_type": "markdown",
   "id": "30a3f6bf",
   "metadata": {},
   "source": [
    "The null hypothesis would be:\n",
    "\n",
    "H0: The average weight of male college students is not greater than the average weight of female college students.\n",
    "\n",
    "The alternative hypothesis would be:\n",
    "\n",
    "H1: The average weight of male college students is greater than the average weight of female college students."
   ]
  },
  {
   "cell_type": "markdown",
   "id": "0b713b75",
   "metadata": {},
   "source": [
    "<b>Q5 Write a Python script to conduct a hypothesis test on the difference between two population means, given a sample from each population.</b>"
   ]
  },
  {
   "cell_type": "code",
   "execution_count": 10,
   "id": "da5675eb",
   "metadata": {},
   "outputs": [
    {
     "name": "stdout",
     "output_type": "stream",
     "text": [
      "t-statistic:  -4.30652611516652\n",
      "p-value:  2.6082543192348596e-05\n",
      "Reject null hypothesis\n"
     ]
    }
   ],
   "source": [
    "import numpy as np\n",
    "from scipy.stats import ttest_ind\n",
    "\n",
    "# create two random samples\n",
    "sample1 = np.random.normal(10, 2, 100)\n",
    "sample2 = np.random.normal(11, 2, 100)\n",
    "\n",
    "# conduct t-test\n",
    "t_stat, p_val = ttest_ind(sample1, sample2)\n",
    "\n",
    "# print results\n",
    "print(\"t-statistic: \", t_stat)\n",
    "print(\"p-value: \", p_val)\n",
    "\n",
    "# check if p-value is significant at 5% level\n",
    "if p_val < 0.05:\n",
    "    print(\"Reject null hypothesis\")\n",
    "else:\n",
    "    print(\"Fail to reject null hypothesis\")"
   ]
  },
  {
   "cell_type": "markdown",
   "id": "02c918e4",
   "metadata": {},
   "source": [
    "<b>Q6 What is a null and alternative hypothesis? Give some examples.</b>"
   ]
  },
  {
   "cell_type": "markdown",
   "id": "ddd13ac6",
   "metadata": {},
   "source": [
    "The null hypothesis (H0) states that there is no significant difference between two populations or variables. It is often the default or conventional position and is tested against the alternative hypothesis. In other words, it is the claim that researchers aim to reject or fail to reject based on the evidence from the data.\n",
    "\n",
    "The alternative hypothesis (H1) is the complement of the null hypothesis and states that there is a significant difference between two populations or variables. It represents the claim that researchers seek to support or prove based on the evidence from the data.\n",
    "\n",
    "Examples:\n",
    "\n",
    "Null hypothesis: The average IQ scores of two groups of students are equal.\n",
    "Alternative hypothesis: The average IQ score of one group of students is significantly different from the other group.\n",
    "\n",
    "Null hypothesis: The new drug has no effect on curing a disease.\n",
    "Alternative hypothesis: The new drug is significantly more effective in curing the disease than the current drug."
   ]
  },
  {
   "cell_type": "markdown",
   "id": "88bec3dd",
   "metadata": {},
   "source": [
    "<b>Q7 Write down the steps involved in hypothesis testing.</b>"
   ]
  },
  {
   "cell_type": "markdown",
   "id": "8c302ac1",
   "metadata": {},
   "source": [
    "The general steps involved in hypothesis testing are:\n",
    "\n",
    "State the null and alternative hypotheses: Identify the research question and define the null and alternative hypotheses that represent the possible outcomes.\n",
    "\n",
    "Determine the test statistic: Choose an appropriate statistical test (e.g., t-test, ANOVA, chi-square) based on the research \n",
    "question and data type, and calculate the test statistic using the sample data.\n",
    "\n",
    "Set the significance level: Determine the level of significance (alpha) to use for the test. This is the probability of rejecting the null hypothesis when it is true and is typically set at 0.05.\n",
    "\n",
    "Calculate the p-value: Calculate the probability of observing the test statistic or a more extreme value under the null hypothesis.\n",
    "\n",
    "Make a decision: Compare the p-value to the significance level and make a decision whether to reject or fail to reject the null hypothesis. If the p-value is less than or equal to the significance level, reject the null hypothesis; otherwise, fail to reject the null hypothesis."
   ]
  },
  {
   "cell_type": "markdown",
   "id": "c91d66ca",
   "metadata": {},
   "source": [
    "<b>Q8) Define p-value and explain its significance in hypothesis testing.</b>"
   ]
  },
  {
   "cell_type": "markdown",
   "id": "b1685650",
   "metadata": {},
   "source": [
    "The p-value in hypothesis testing is the probability of observing a test statistic or a more extreme value, given that the null hypothesis is true. In other words, it is the probability of obtaining the observed data or more extreme data if the null hypothesis is true.\n",
    "The p-value provides a measure of the strength of evidence against the null hypothesis. A small p-value indicates strong evidence against the null hypothesis, while a large p-value indicates weak evidence against the null hypothesis.\n",
    "\n",
    "The p-value is a key component of hypothesis testing because it helps researchers make decisions about the null hypothesis. If the p-value is small (e.g., less than or equal to the significance level), it suggests that the observed data is unlikely to have occurred by chance under the null hypothesis, and the null hypothesis is rejected. If the p-value is large (e.g., greater than the significance level), it suggests that the observed data is consistent with the null hypothesis, and the null hypothesis is not rejected."
   ]
  },
  {
   "cell_type": "markdown",
   "id": "1f995089",
   "metadata": {},
   "source": [
    "<b>Q9 Generate a Student's t-distribution plot using Python's matplotlib library, with the degrees of freedom parameter set to 10.</B>"
   ]
  },
  {
   "cell_type": "code",
   "execution_count": 18,
   "id": "586219a2",
   "metadata": {},
   "outputs": [
    {
     "data": {
      "text/plain": [
       "(array([1.50799053e-04, 1.50799053e-04, 0.00000000e+00, 4.52397159e-04,\n",
       "        1.05559337e-03, 2.86518201e-03, 9.04794318e-03, 2.41278485e-02,\n",
       "        7.87171056e-02, 1.96038769e-01, 3.41409056e-01, 3.90117150e-01,\n",
       "        2.62390352e-01, 1.26369606e-01, 4.93112903e-02, 1.70402930e-02,\n",
       "        4.82556969e-03, 2.56358390e-03, 1.20639242e-03, 1.50799053e-04]),\n",
       " array([-7.47043785, -6.80730371, -6.14416957, -5.48103543, -4.8179013 ,\n",
       "        -4.15476716, -3.49163302, -2.82849888, -2.16536474, -1.50223061,\n",
       "        -0.83909647, -0.17596233,  0.48717181,  1.15030595,  1.81344009,\n",
       "         2.47657422,  3.13970836,  3.8028425 ,  4.46597664,  5.12911078,\n",
       "         5.79224491]),\n",
       " <BarContainer object of 20 artists>)"
      ]
     },
     "execution_count": 18,
     "metadata": {},
     "output_type": "execute_result"
    },
    {
     "data": {
      "image/png": "[encoded data removed]",
      "text/plain": [
       "<Figure size 640x480 with 1 Axes>"
      ]
     },
     "metadata": {},
     "output_type": "display_data"
    }
   ],
   "source": [
    "from scipy.stats import t\n",
    "import matplotlib.pyplot as plt\n",
    "\n",
    "#generate t distribution with sample size 10000\n",
    "x = t.rvs(df=10, size=10000)\n",
    "\n",
    "plt.hist(x, density=True, edgecolor='black', bins=20)"
   ]
  },
  {
   "cell_type": "markdown",
   "id": "aa8da3c5",
   "metadata": {},
   "source": [
    "<b>Q10 Write a Python program to calculate the two-sample t-test for independent samples, given two random samples of equal size and a null hypothesis that the population means are equal.</b>"
   ]
  },
  {
   "cell_type": "code",
   "execution_count": 20,
   "id": "cc7aa3d1",
   "metadata": {},
   "outputs": [
    {
     "name": "stdout",
     "output_type": "stream",
     "text": [
      "t-test statistic: -5.710016718233552\n",
      "p-value: 4.088083015841516e-08\n",
      "Reject the null hypothesis\n"
     ]
    }
   ],
   "source": [
    "import numpy as np\n",
    "from scipy.stats import ttest_ind\n",
    "\n",
    "sample1 = np.random.normal(10, 2, 100)\n",
    "sample2 = np.random.normal(12, 2, 100)\n",
    "\n",
    "#calculate the t-test statistic and p-value\n",
    "t_statistic, p_value = ttest_ind(sample1, sample2)\n",
    "\n",
    "print(\"t-test statistic:\", t_statistic)\n",
    "print(\"p-value:\", p_value)\n",
    "\n",
    "alpha = 0.05\n",
    "if p_value < alpha:\n",
    "    print(\"Reject the null hypothesis\")\n",
    "else:\n",
    "    print(\"Fail to reject the null hypothesis\")"
   ]
  },
  {
   "cell_type": "markdown",
   "id": "6c89055f",
   "metadata": {},
   "source": [
    "<b>Q11 What is Student’s t distribution? When to use the t-Distribution.</b>"
   ]
  },
  {
   "cell_type": "markdown",
   "id": "ae37e592",
   "metadata": {},
   "source": [
    "Student's t distribution is a probability distribution that is used in hypothesis testing when the sample size is small and the population standard deviation is unknown.\n",
    "It is similar to the standard normal distribution (z-distribution), but has heavier tails, which means it has more probability in the tails and less in the center compared to the standard normal distribution. The shape of the t-distribution depends on the sample size, with smaller sample sizes resulting in a more spread-out distribution.\n",
    "\n",
    "The t-distribution is used in situations where the population standard deviation is unknown and must be estimated from the sample data.\n",
    "It is also used when the sample size is small (typically less than 30) and the population is normally distributed. The t-distribution allows for greater uncertainty in the estimate of the population standard deviation due to the smaller sample size."
   ]
  },
  {
   "cell_type": "markdown",
   "id": "0275064f",
   "metadata": {},
   "source": [
    "<B>Q 12 What is t-statistic? State the formula for t-statistic.</B>"
   ]
  },
  {
   "cell_type": "markdown",
   "id": "4541c8b1",
   "metadata": {},
   "source": [
    "The t-statistic is a measure of how many standard errors the sample mean is from the hypothesized population mean, under the assumption that the population variance is unknown and must be estimated from the sample data. It is used in hypothesis testing to determine whether the difference between the sample mean and the hypothesized population mean is statistically significant.\n",
    "\n",
    "The formula for the t-statistic is:\n",
    "t = (x̄ - μ) / (s / √n)\n",
    "\n",
    "where:\n",
    "x̄ is the sample mean                                                                                                              \n",
    "μ is the hypothesized population mean                                                                                             \n",
    "s is the sample standard deviation                                                                                                              \n",
    "n is the sample size                                                                                                                  \n",
    "√n is the square root of the sample size"
   ]
  },
  {
   "cell_type": "markdown",
   "id": "bbda2817",
   "metadata": {},
   "source": [
    "<b> Q13 A coffee shop owner wants to estimate the average daily revenue for their shop. They take a random sample of 50 days and find the sample mean revenue to be 500 dollars with a standard deviation of 50 dollars. Estimate the population mean revenue with a 95% confidence interval."
   ]
  },
  {
   "cell_type": "markdown",
   "id": "184a6aed",
   "metadata": {},
   "source": [
    "To estimate the population mean revenue with a 95% confidence interval, we can use the following formula:\n",
    "\n",
    "Confidence Interval = sample mean ± margin of error\n",
    "\n",
    "where the margin of error is given by:\n",
    "\n",
    "Margin of Error = critical value * standard error\n",
    "\n",
    "The standard error is the standard deviation of the sample divided by the square root of the sample size:\n",
    "\n",
    "Standard Error = standard deviation / sqrt(sample size)\n",
    "\n",
    "Substituting the values given in the problem statement, we get:\n",
    "\n",
    "Standard Error = 50 / sqrt(50) = 7.07                                                                                            \n",
    "Margin of Error = 1.96 * 7.07 = 13.85\n",
    "\n",
    "Therefore, the 95% confidence interval for the population mean revenue is:\n",
    "\n",
    "500 ± 13.85, or (486.15, 513.85)\n",
    "\n",
    "We can be 95% confident that the true population mean revenue falls within this interval."
   ]
  },
  {
   "cell_type": "markdown",
   "id": "82ef67c8",
   "metadata": {},
   "source": [
    "<b>Q14 A researcher hypothesizes that a new drug will decrease blood pressure by 10 mmHg. They conduct a clinical trial with 100 patients and find that the sample mean decrease in blood pressure is 8 mmHg with a standard deviation of 3 mmHg. Test the hypothesis with a significance level of 0.05.</B>"
   ]
  },
  {
   "cell_type": "markdown",
   "id": "c7e5c69f",
   "metadata": {},
   "source": [
    "The following values are given in the question:\n",
    "\n",
    "Population Mean = 10                                                                                                             \n",
    "Sample Size = n = 100                                                                                                            \n",
    "Sample Mean = 8                                                                                                                                    \n",
    "Standard Deviation = 3                                                                                                            \n",
    "Significance Level = 0.05                                                                                                        \n",
    "Confidence Interval = 0.95\n",
    "\n",
    "My null and alternate hypothesis are as follows:\n",
    "\n",
    "Null Hypothesis = H0 => Population Mean = 10\n",
    "Alternate Hypothesis = H1 => Population Mean != 10\n",
    "\n",
    "From utilizing z-table i obgtained values for z-score:\n",
    "\n",
    "z-score = ± 1.96\n",
    "\n",
    "Then I utilized the follwing z-test formula: z = (xbar - u)/(sd/n)\n",
    "\n",
    "I got the following value:\n",
    "\n",
    "-6.67\n",
    "\n",
    "As -6.67 lies outside the region ± 1.96, that means it lies in the rejection region.\n",
    "So my final conclusion was:\n",
    "\n",
    "Reject the null hypothesis"
   ]
  },
  {
   "cell_type": "markdown",
   "id": "06722c1a",
   "metadata": {},
   "source": [
    "<b>Q15 An electronics company produces a certain type of product with a mean weight of 5 pounds and a standard deviation of 0.5 pounds. A random sample of 25 products is taken, and the sample mean weight is found to be 4.8 pounds. Test the hypothesis that the true mean weight of the products is less than 5 pounds with a significance level of 0.01.</B>"
   ]
  },
  {
   "cell_type": "markdown",
   "id": "167feb2d",
   "metadata": {},
   "source": [
    "The following values are given in the question:\n",
    "\n",
    "Population Mean = 5                                                                                                            \n",
    "Sample Size = n = 25                                                                                                             \n",
    "Sample Mean = 4.8                                                                                                               \n",
    "Standard Deviation = 0.5                                                                                                        \n",
    "Significance Level = 0.01                                                                                                       \n",
    "Confidence Interval = 0.99\n",
    "\n",
    "My null and alternate hypothesis are as follows:\n",
    "\n",
    "Null Hypothesis = H0 => Population Mean = 5                                                                                      \n",
    "Alternate Hypothesis = H1 => Population Mean < 5\n",
    "\n",
    "Using z-test formula we get z = -2\n",
    "\n",
    "From utilizing z-table i obgtained values for z-score of -2:\n",
    "\n",
    "To make a decision, let's compare the calculated z-score (-2) with the critical z-value corresponding to the significance level (0.01 α=0.01).\n",
    "\n",
    "Since the calculated z-score (-2) is less than the critical z-value for a significance level of 0.01, we reject the null hypothesis."
   ]
  },
  {
   "cell_type": "markdown",
   "id": "9b755965",
   "metadata": {},
   "source": [
    "<b> Q16 Two groups of students are given different study materials to prepare for a test. The first group (n1 = 30) has a mean score of 80 with a standard deviation of 10, and the second group (n2 = 40) has a mean score of 75 with a standard deviation of 8. Test the hypothesis that the population means for the two groups are equal with a significance level of 0.01."
   ]
  },
  {
   "attachments": {},
   "cell_type": "markdown",
   "id": "5bba6d4b",
   "metadata": {},
   "source": [
    "Null Hypothesis = H0 => Population Mean of Group 1 = Population Mean of Group 2                                                  \n",
    "Alternate Hypothesis = H1 => Population Mean of Group 1 != Population Mean of Group 2\n",
    "\n",
    "Then I utilized the follwing two sample T-test formula:\n",
    "we got t = 2.25\n",
    "To determine the critical value or p-value, we need to conduct a two-tailed t-test. Given that we have a significance level (α) of 0.01, we need to find the critical t-value with degrees of freedom.\n",
    "\n",
    "df = n1+n2-2 at a/2 = 0.005\n",
    "df = 68\n",
    "\n",
    "After consulting a t-distribution table or using statistical software, we find that the critical t-value for a two-tailed test with df = 68 and a/2 = 0.005 we get t value as +- 2.662\n",
    "\n",
    "Since the calculated t-test statistic falls within the range of -2.662 to 2.662, it does not exceed the critical t-value. Therefore, we fail to reject the null hypothesis."
   ]
  },
  {
   "cell_type": "markdown",
   "id": "872db151",
   "metadata": {},
   "source": [
    "<b>Q17 A marketing company wants to estimate the average number of ads watched by viewers during a TV program. They take a random sample of 50 viewers and find that the sample mean is 4 with a standard deviation of 1.5. Estimate the population mean with a 99% confidence interval. </b>\n",
    "\n",
    "Answer:\n",
    "To estimate the population mean with a 99% confidence interval, we can use the following formula:\n",
    "\n",
    "CI = X̄ ± z*(σ/√n)\n",
    "\n",
    "Where:\n",
    "\n",
    "X̄ = sample mean (4) \n",
    "z = z-score corresponding to the confidence level (99%)                                                                         \n",
    "σ = population standard deviation (1.5)                                                                                         \n",
    "n = sample size (50)\n",
    "\n",
    "To find the z-score, we can use a standard normal distribution table. For a 99% confidence level, the z-score is\n",
    "\n",
    "z-score = 2.576.\n",
    "\n",
    "Plugging in the values, we get:\n",
    "\n",
    "CI = 4 ± 2.576*(1.5/√50)\n",
    "CI = 4 ± 0.665\n",
    "\n",
    "Therefore, the 99% confidence interval for the population mean of the number of ads watched by viewers during a TV program is (3.335, 4.665). We are 99% confident that the true population mean falls within this interval."
   ]
  }
 ],
 "metadata": {
  "kernelspec": {
   "display_name": "Python 3 (ipykernel)",
   "language": "python",
   "name": "python3"
  },
  "language_info": {
   "codemirror_mode": {
    "name": "ipython",
    "version": 3
   },
   "file_extension": ".py",
   "mimetype": "text/x-python",
   "name": "python",
   "nbconvert_exporter": "python",
   "pygments_lexer": "ipython3",
   "version": "3.9.13"
  }
 },
 "nbformat": 4,
 "nbformat_minor": 5
}
