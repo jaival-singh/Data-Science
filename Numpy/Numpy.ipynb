{
 "cells": [
  {
   "cell_type": "markdown",
   "id": "3f0f1cba",
   "metadata": {},
   "source": [
    "<b>Consider the below code to answer further questions:</b>\n"
   ]
  },
  {
   "cell_type": "markdown",
   "id": "90c54446",
   "metadata": {},
   "source": [
    "<b>import numpy as np                                                                                                           \n",
    "list_ = [ '1' , '2', '3' , '4' , '5' ]                                                                                           \n",
    "array_list = np.array(object = list_)</b>"
   ]
  },
  {
   "cell_type": "markdown",
   "id": "f7b76f47",
   "metadata": {},
   "source": [
    "<b>Q1. Is there any difference in the data type of variables list_ and array_list?If there is then write a code to print the data types of both the variables.</b>"
   ]
  },
  {
   "cell_type": "markdown",
   "id": "1482a1ca",
   "metadata": {},
   "source": [
    "'Yes, there is a difference in the data type of variables list_ and array_list. list_ is a Python list object while array_list \n",
    "   is a NumPy array object."
   ]
  },
  {
   "cell_type": "code",
   "execution_count": 6,
   "id": "686a5f11",
   "metadata": {},
   "outputs": [
    {
     "name": "stdout",
     "output_type": "stream",
     "text": [
      "Data type of list_: <class 'list'>\n",
      "Data type of array_list: <class 'numpy.ndarray'>\n"
     ]
    }
   ],
   "source": [
    "print(\"Data type of list_:\", type(list_))\n",
    "print(\"Data type of array_list:\", type(array_list))\n"
   ]
  },
  {
   "cell_type": "markdown",
   "id": "26442f93",
   "metadata": {},
   "source": [
    "<b>Q2. Write a code to print the data type of each and every element of both the variables list_ and array_list.</b>"
   ]
  },
  {
   "cell_type": "code",
   "execution_count": 9,
   "id": "c3dbe6e8",
   "metadata": {},
   "outputs": [
    {
     "name": "stdout",
     "output_type": "stream",
     "text": [
      "<class 'str'>\n",
      "<class 'str'>\n",
      "<class 'str'>\n",
      "<class 'str'>\n",
      "<class 'str'>\n",
      "<class 'numpy.str_'>\n",
      "<class 'numpy.str_'>\n",
      "<class 'numpy.str_'>\n",
      "<class 'numpy.str_'>\n",
      "<class 'numpy.str_'>\n"
     ]
    }
   ],
   "source": [
    "# Print data type of each element in list_\n",
    "for element in list_:\n",
    "    print(type(element))\n",
    "\n",
    "# Print data type of each element in array_list\n",
    "for element in array_list:\n",
    "    print(type(element))"
   ]
  },
  {
   "cell_type": "markdown",
   "id": "a1196b20",
   "metadata": {},
   "source": [
    "<b>Q3. Considering the following changes in the variable, array_list:                                                           \n",
    "array_list = np.array(object = list_, dtype = int)</b>"
   ]
  },
  {
   "cell_type": "code",
   "execution_count": 10,
   "id": "58c120a0",
   "metadata": {},
   "outputs": [
    {
     "name": "stdout",
     "output_type": "stream",
     "text": [
      "<class 'str'>\n",
      "<class 'str'>\n",
      "<class 'str'>\n",
      "<class 'str'>\n",
      "<class 'str'>\n",
      "<class 'numpy.int32'>\n",
      "<class 'numpy.int32'>\n",
      "<class 'numpy.int32'>\n",
      "<class 'numpy.int32'>\n",
      "<class 'numpy.int32'>\n"
     ]
    }
   ],
   "source": [
    "array_list = np.array(object = list_ , dtype = int)\n",
    "for element in list_:\n",
    "    print(type(element))\n",
    "for element in array_list:\n",
    "    print(type(element))"
   ]
  },
  {
   "cell_type": "markdown",
   "id": "59760202",
   "metadata": {},
   "source": [
    "<b>Consider the below code to answer further questions:</b>"
   ]
  },
  {
   "cell_type": "markdown",
   "id": "1eeae012",
   "metadata": {},
   "source": [
    "<b>import numpy as np                                                                                                           \n",
    "num_list = [ [ 1 , 2 , 3 ] , [ 4 , 5 , 6 ] ]                                                                                     \n",
    "num_array = np.array(object = num_list)</b>"
   ]
  },
  {
   "cell_type": "markdown",
   "id": "62159129",
   "metadata": {},
   "source": [
    "<b>Q4. Write a code to find the following characteristics of variable, num_array:\n",
    "(i) shape (ii) size</b>"
   ]
  },
  {
   "cell_type": "code",
   "execution_count": 12,
   "id": "4104556a",
   "metadata": {},
   "outputs": [
    {
     "name": "stdout",
     "output_type": "stream",
     "text": [
      "(2, 3)\n",
      "6\n"
     ]
    }
   ],
   "source": [
    "# Print the shape of num_array\n",
    "print(num_array.shape)\n",
    "\n",
    "# Print the size of num_array\n",
    "print(num_array.size)"
   ]
  },
  {
   "cell_type": "markdown",
   "id": "a7d857ca",
   "metadata": {},
   "source": [
    "<b>Q5. Write a code to create numpy array of 3*3 matrix containing zeros only, using a numpy array creation function.</b>"
   ]
  },
  {
   "cell_type": "code",
   "execution_count": 13,
   "id": "3ae7d7ae",
   "metadata": {},
   "outputs": [
    {
     "name": "stdout",
     "output_type": "stream",
     "text": [
      "[[0. 0. 0.]\n",
      " [0. 0. 0.]\n",
      " [0. 0. 0.]]\n"
     ]
    }
   ],
   "source": [
    "zeros_matrix = np.zeros((3,3))\n",
    "print(zeros_matrix)"
   ]
  },
  {
   "cell_type": "markdown",
   "id": "f31ae391",
   "metadata": {},
   "source": [
    "<b>Q6. Create an identity matrix of shape (5,5) using numpy functions?</b>"
   ]
  },
  {
   "cell_type": "code",
   "execution_count": 14,
   "id": "f142ef79",
   "metadata": {},
   "outputs": [
    {
     "name": "stdout",
     "output_type": "stream",
     "text": [
      "[[1. 0. 0. 0. 0.]\n",
      " [0. 1. 0. 0. 0.]\n",
      " [0. 0. 1. 0. 0.]\n",
      " [0. 0. 0. 1. 0.]\n",
      " [0. 0. 0. 0. 1.]]\n"
     ]
    }
   ],
   "source": [
    "identity_matrix = np.eye(5)\n",
    "print(identity_matrix)"
   ]
  }
 ],
 "metadata": {
  "kernelspec": {
   "display_name": "Python 3 (ipykernel)",
   "language": "python",
   "name": "python3"
  },
  "language_info": {
   "codemirror_mode": {
    "name": "ipython",
    "version": 3
   },
   "file_extension": ".py",
   "mimetype": "text/x-python",
   "name": "python",
   "nbconvert_exporter": "python",
   "pygments_lexer": "ipython3",
   "version": "3.9.13"
  }
 },
 "nbformat": 4,
 "nbformat_minor": 5
}
